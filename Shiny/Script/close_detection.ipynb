{
 "cells": [
  {
   "cell_type": "code",
   "execution_count": 1,
   "metadata": {
    "ExecuteTime": {
     "end_time": "2020-06-19T19:02:55.796657Z",
     "start_time": "2020-06-19T19:02:55.791644Z"
    }
   },
   "outputs": [],
   "source": [
    "def close_detect(df,df_dangerous) :\n",
    "    \n",
    "    fire_company = []\n",
    "    for i in range(len(df)) :\n",
    "\n",
    "        for j in range(len(df_dangerous)) :\n",
    "\n",
    "            if (abs(df.loc[i,'lat'] - df_dangerous.loc[j,'lat']) <0.002) and  (abs(df.loc[i,'lon'] - df_dangerous.loc[j,'lon']) <0.002) :\n",
    "                fire_company.append(df.loc[i,'公司名稱'])\n",
    "                \n",
    "                \n",
    "    close_detect = []\n",
    "    for i in range(len(df)) :\n",
    "\n",
    "        if df.loc[i,'公司名稱'] in pd.Series(fire_company).unique() :\n",
    "            close_detect.append(True)\n",
    "        else :\n",
    "            close_detect.append(False)\n",
    "            \n",
    "    return close_detect"
   ]
  },
  {
   "cell_type": "code",
   "execution_count": null,
   "metadata": {},
   "outputs": [],
   "source": []
  }
 ],
 "metadata": {
  "kernelspec": {
   "display_name": "Python 3",
   "language": "python",
   "name": "python3"
  },
  "language_info": {
   "codemirror_mode": {
    "name": "ipython",
    "version": 3
   },
   "file_extension": ".py",
   "mimetype": "text/x-python",
   "name": "python",
   "nbconvert_exporter": "python",
   "pygments_lexer": "ipython3",
   "version": "3.7.4"
  },
  "toc": {
   "base_numbering": 1,
   "nav_menu": {},
   "number_sections": true,
   "sideBar": true,
   "skip_h1_title": false,
   "title_cell": "Table of Contents",
   "title_sidebar": "Contents",
   "toc_cell": false,
   "toc_position": {},
   "toc_section_display": true,
   "toc_window_display": false
  }
 },
 "nbformat": 4,
 "nbformat_minor": 4
}
