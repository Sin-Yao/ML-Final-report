{
 "cells": [
  {
   "cell_type": "code",
   "execution_count": 4,
   "metadata": {
    "ExecuteTime": {
     "end_time": "2020-06-19T09:02:24.692234Z",
     "start_time": "2020-06-19T09:02:24.689219Z"
    }
   },
   "outputs": [],
   "source": [
    "import requests\n",
    "import time\n",
    "from selenium import webdriver\n",
    "from selenium.webdriver.support.ui import Select\n",
    "from bs4 import BeautifulSoup\n",
    "options = webdriver.ChromeOptions()\n",
    "options.add_argument(\"headless\")"
   ]
  },
  {
   "cell_type": "code",
   "execution_count": 2,
   "metadata": {
    "ExecuteTime": {
     "end_time": "2020-06-19T08:45:24.839294Z",
     "start_time": "2020-06-19T08:45:24.833310Z"
    }
   },
   "outputs": [],
   "source": [
    "def get_coordinate(addr):\n",
    "    browser = webdriver.Chrome(executable_path='../chromedriver.exe',options=options)### <---- put your own google driver\n",
    "    \n",
    "    ###  driver link https://sites.google.com/a/chromium.org/chromedriver/home\n",
    "    \n",
    "    browser.get(\"http://www.map.com.tw/\")\n",
    "    search = browser.find_element_by_id(\"searchWord\")\n",
    "    search.clear()\n",
    "    search.send_keys(addr)\n",
    "    browser.find_element_by_xpath(\"/html/body/form/div[10]/div[2]/img[2]\").click() \n",
    "    time.sleep(2)\n",
    "    iframe = browser.find_elements_by_tag_name(\"iframe\")[1]\n",
    "    browser.switch_to.frame(iframe)\n",
    "    coor_btn = browser.find_element_by_xpath(\"/html/body/form/div[4]/table/tbody/tr[3]/td/table/tbody/tr/td[2]\")\n",
    "    coor_btn.click()\n",
    "    coor = browser.find_element_by_xpath(\"/html/body/form/div[5]/table/tbody/tr[2]/td\")\n",
    "    coor = coor.text.strip().split(\" \")\n",
    "    lat = coor[-1].split(\"：\")[-1]\n",
    "    log = coor[0].split(\"：\")[-1]\n",
    "    browser.quit()\n",
    "    return (lat, log)"
   ]
  },
  {
   "cell_type": "code",
   "execution_count": 20,
   "metadata": {
    "ExecuteTime": {
     "end_time": "2020-06-19T09:57:30.389423Z",
     "start_time": "2020-06-19T09:57:20.882227Z"
    }
   },
   "outputs": [
    {
     "data": {
      "text/plain": [
       "('25.129346', '121.754958')"
      ]
     },
     "execution_count": 20,
     "metadata": {},
     "output_type": "execute_result"
    }
   ],
   "source": [
    "get_coordinate(\"基隆市信義區義幸里信二路118、120號1樓\")"
   ]
  },
  {
   "cell_type": "code",
   "execution_count": 5,
   "metadata": {
    "ExecuteTime": {
     "end_time": "2020-06-19T09:02:35.548461Z",
     "start_time": "2020-06-19T09:02:35.215291Z"
    }
   },
   "outputs": [],
   "source": [
    "import pandas as pd"
   ]
  },
  {
   "cell_type": "code",
   "execution_count": 6,
   "metadata": {
    "ExecuteTime": {
     "end_time": "2020-06-19T09:03:16.190097Z",
     "start_time": "2020-06-19T09:03:16.184113Z"
    }
   },
   "outputs": [],
   "source": [
    "df = pd.read_csv('../data/workingfile.csv')"
   ]
  },
  {
   "cell_type": "code",
   "execution_count": 13,
   "metadata": {
    "ExecuteTime": {
     "end_time": "2020-06-19T09:53:16.789321Z",
     "start_time": "2020-06-19T09:36:20.371757Z"
    }
   },
   "outputs": [],
   "source": [
    "lat = []\n",
    "lon = []\n",
    "for i in range(97,len(df)) :\n",
    "    \n",
    "    lat.append(get_coordinate(df.loc[i,'公司地址'])[0])\n",
    "    lon.append(get_coordinate(df.loc[i,'公司地址'])[1])\n"
   ]
  },
  {
   "cell_type": "code",
   "execution_count": 11,
   "metadata": {
    "ExecuteTime": {
     "end_time": "2020-06-19T09:35:46.640475Z",
     "start_time": "2020-06-19T09:35:46.636486Z"
    }
   },
   "outputs": [
    {
     "data": {
      "text/plain": [
       "95"
      ]
     },
     "execution_count": 11,
     "metadata": {},
     "output_type": "execute_result"
    }
   ],
   "source": [
    "len(lat)"
   ]
  },
  {
   "cell_type": "code",
   "execution_count": 31,
   "metadata": {
    "ExecuteTime": {
     "end_time": "2020-06-19T09:59:40.357110Z",
     "start_time": "2020-06-19T09:59:40.353094Z"
    }
   },
   "outputs": [],
   "source": [
    "df['lat'] = lat\n",
    "df['lon'] = lon"
   ]
  },
  {
   "cell_type": "code",
   "execution_count": 33,
   "metadata": {
    "ExecuteTime": {
     "end_time": "2020-06-19T10:00:23.151429Z",
     "start_time": "2020-06-19T10:00:23.137436Z"
    }
   },
   "outputs": [],
   "source": [
    "df.to_csv('../data/new.csv',index=False)"
   ]
  }
 ],
 "metadata": {
  "kernelspec": {
   "display_name": "Python 3",
   "language": "python",
   "name": "python3"
  },
  "language_info": {
   "codemirror_mode": {
    "name": "ipython",
    "version": 3
   },
   "file_extension": ".py",
   "mimetype": "text/x-python",
   "name": "python",
   "nbconvert_exporter": "python",
   "pygments_lexer": "ipython3",
   "version": "3.7.4"
  },
  "toc": {
   "base_numbering": 1,
   "nav_menu": {},
   "number_sections": true,
   "sideBar": true,
   "skip_h1_title": false,
   "title_cell": "Table of Contents",
   "title_sidebar": "Contents",
   "toc_cell": false,
   "toc_position": {},
   "toc_section_display": true,
   "toc_window_display": false
  }
 },
 "nbformat": 4,
 "nbformat_minor": 4
}
