{
 "cells": [
  {
   "cell_type": "code",
   "execution_count": 8,
   "metadata": {},
   "outputs": [],
   "source": [
    "from sklearn import preprocessing\n",
    "import numpy as np\n",
    "import pandas as pd"
   ]
  },
  {
   "cell_type": "code",
   "execution_count": 9,
   "metadata": {},
   "outputs": [],
   "source": [
    "df  = pd.read_csv('https://sin-yao.github.io/ML-Final-report/me.csv')\n",
    "df1 = df.iloc[:,0:11]\n",
    "rename_dic = {\"Unnamed: 10\": \"產業別\"}\n",
    "df1 = df1.rename(rename_dic, axis=1)\n",
    "df2 = df1.iloc[:,0:8]\n",
    "df2[\"產業別\"] = df1[\"產業別\"]"
   ]
  },
  {
   "cell_type": "code",
   "execution_count": 10,
   "metadata": {},
   "outputs": [],
   "source": [
    "df2 = df2[~df2[\"產業別\"].isna()]\n",
    "df2.columns=['統一編號', '公司名稱', '公司地址', '資本額總額', '核准設立日期', '最後核准變更日期','公司狀態', '代表人/創辦人/員工', '產業別']\n",
    "df2.index = list(range(0,len(df2[\"產業別\"])))"
   ]
  },
  {
   "cell_type": "code",
   "execution_count": 11,
   "metadata": {},
   "outputs": [],
   "source": [
    "indlist = pd.DataFrame({\"產業別\":np.unique(df2[\"產業別\"]),\n",
    "                        \"總數\":[0]*len(np.unique(df2[\"產業別\"]))})\n",
    "for i in range(0,len(indlist)):\n",
    "    for j in range(0,len(df2[\"產業別\"])):\n",
    "        if df2.iloc[j,8]==indlist.iloc[i,0]:\n",
    "            indlist.iloc[i,1]+=1"
   ]
  },
  {
   "cell_type": "code",
   "execution_count": 12,
   "metadata": {},
   "outputs": [
    {
     "data": {
      "text/html": [
       "<div>\n",
       "<style scoped>\n",
       "    .dataframe tbody tr th:only-of-type {\n",
       "        vertical-align: middle;\n",
       "    }\n",
       "\n",
       "    .dataframe tbody tr th {\n",
       "        vertical-align: top;\n",
       "    }\n",
       "\n",
       "    .dataframe thead th {\n",
       "        text-align: right;\n",
       "    }\n",
       "</style>\n",
       "<table border=\"1\" class=\"dataframe\">\n",
       "  <thead>\n",
       "    <tr style=\"text-align: right;\">\n",
       "      <th></th>\n",
       "      <th>產業別</th>\n",
       "      <th>總數</th>\n",
       "    </tr>\n",
       "  </thead>\n",
       "  <tbody>\n",
       "    <tr>\n",
       "      <td>2</td>\n",
       "      <td>五金批發業</td>\n",
       "      <td>19</td>\n",
       "    </tr>\n",
       "    <tr>\n",
       "      <td>3</td>\n",
       "      <td>五金零售業</td>\n",
       "      <td>12</td>\n",
       "    </tr>\n",
       "    <tr>\n",
       "      <td>41</td>\n",
       "      <td>室內裝潢業</td>\n",
       "      <td>14</td>\n",
       "    </tr>\n",
       "    <tr>\n",
       "      <td>49</td>\n",
       "      <td>布疋、衣著、鞋、帽、傘、服飾品批發業</td>\n",
       "      <td>16</td>\n",
       "    </tr>\n",
       "    <tr>\n",
       "      <td>57</td>\n",
       "      <td>建築物清潔服務業</td>\n",
       "      <td>10</td>\n",
       "    </tr>\n",
       "    <tr>\n",
       "      <td>101</td>\n",
       "      <td>燃料導管安裝工程業</td>\n",
       "      <td>10</td>\n",
       "    </tr>\n",
       "    <tr>\n",
       "      <td>155</td>\n",
       "      <td>配管工程業</td>\n",
       "      <td>34</td>\n",
       "    </tr>\n",
       "    <tr>\n",
       "      <td>174</td>\n",
       "      <td>電器承裝業</td>\n",
       "      <td>10</td>\n",
       "    </tr>\n",
       "    <tr>\n",
       "      <td>188</td>\n",
       "      <td>食品什貨批發業</td>\n",
       "      <td>10</td>\n",
       "    </tr>\n",
       "  </tbody>\n",
       "</table>\n",
       "</div>"
      ],
      "text/plain": [
       "                    產業別  總數\n",
       "2                 五金批發業  19\n",
       "3                 五金零售業  12\n",
       "41                室內裝潢業  14\n",
       "49   布疋、衣著、鞋、帽、傘、服飾品批發業  16\n",
       "57             建築物清潔服務業  10\n",
       "101           燃料導管安裝工程業  10\n",
       "155               配管工程業  34\n",
       "174               電器承裝業  10\n",
       "188             食品什貨批發業  10"
      ]
     },
     "execution_count": 12,
     "metadata": {},
     "output_type": "execute_result"
    }
   ],
   "source": [
    "indlist=indlist[indlist['總數'] >=10]\n",
    "indlist"
   ]
  },
  {
   "cell_type": "code",
   "execution_count": 13,
   "metadata": {},
   "outputs": [],
   "source": [
    "df3 = df2[df2[\"產業別\"].str.contains(\"配管工程業\")]\n",
    "df3 = df3.sort_values(by='核准設立日期')\n",
    "df3.index = list(range(0,len(df3[\"產業別\"])))\n",
    "x = pd.DataFrame({\"資本額(標準化)\":preprocessing.scale(df3[\"資本額總額\"]),\n",
    "                  \"成立順序\":list(range(1,len(df3[\"核准設立日期\"])+1))\n",
    "                 })\n",
    "df3 = df3.merge(x ,left_index=True, right_index=True)\n",
    "df3 = df3.round({\"資本額(標準化)\":3})"
   ]
  },
  {
   "cell_type": "code",
   "execution_count": 14,
   "metadata": {},
   "outputs": [],
   "source": [
    "df4 = df2[df2[\"產業別\"].str.contains(\"五金批發業\")]\n",
    "df4 = df4.sort_values(by='核准設立日期')\n",
    "df4.index = list(range(0,len(df4[\"產業別\"])))\n",
    "x = pd.DataFrame({\"資本額(標準化)\":preprocessing.scale(df4[\"資本額總額\"]),\n",
    "                  \"成立順序\":list(range(1,len(df4[\"核准設立日期\"])+1))\n",
    "                 })\n",
    "df4 = df4.merge(x ,left_index=True, right_index=True)\n",
    "df4 = df4.round({\"資本額(標準化)\":3})"
   ]
  },
  {
   "cell_type": "code",
   "execution_count": 15,
   "metadata": {},
   "outputs": [],
   "source": [
    "df5 = df2[df2[\"產業別\"].str.contains(\"布疋、衣著、鞋、帽、傘、服飾品批發業\")]\n",
    "df5 = df5.sort_values(by='核准設立日期')\n",
    "df5.index = list(range(0,len(df5[\"產業別\"])))\n",
    "x = pd.DataFrame({\"資本額(標準化)\":preprocessing.scale(df5[\"資本額總額\"]),\n",
    "                  \"成立順序\":list(range(1,len(df5[\"核准設立日期\"])+1))\n",
    "                 })\n",
    "df5 = df5.merge(x ,left_index=True, right_index=True)\n",
    "df5 = df5.round({\"資本額(標準化)\":3})"
   ]
  },
  {
   "cell_type": "code",
   "execution_count": 16,
   "metadata": {},
   "outputs": [],
   "source": [
    "df6 = df2[df2[\"產業別\"].str.contains(\"室內裝潢業\")]\n",
    "df6 = df6.sort_values(by='核准設立日期')\n",
    "df6.index = list(range(0,len(df6[\"產業別\"])))\n",
    "x = pd.DataFrame({\"資本額(標準化)\":preprocessing.scale(df6[\"資本額總額\"]),\n",
    "                  \"成立順序\":list(range(1,len(df6[\"核准設立日期\"])+1))\n",
    "                 })\n",
    "df6 = df6.merge(x ,left_index=True, right_index=True)\n",
    "df6 = df6.round({\"資本額(標準化)\":3})"
   ]
  },
  {
   "cell_type": "code",
   "execution_count": 17,
   "metadata": {},
   "outputs": [],
   "source": [
    "df7 = df2[df2[\"產業別\"].str.contains(\"五金零售業\")]\n",
    "df7 = df7.sort_values(by='核准設立日期')\n",
    "df7.index = list(range(0,len(df7[\"產業別\"])))\n",
    "x = pd.DataFrame({\"資本額(標準化)\":preprocessing.scale(df7[\"資本額總額\"]),\n",
    "                  \"成立順序\":list(range(1,len(df7[\"核准設立日期\"])+1))\n",
    "                 })\n",
    "df7 = df7.merge(x ,left_index=True, right_index=True)\n",
    "df7 = df7.round({\"資本額(標準化)\":3})"
   ]
  },
  {
   "cell_type": "code",
   "execution_count": 18,
   "metadata": {},
   "outputs": [],
   "source": [
    "df8 = df2[df2[\"產業別\"].str.contains(\"電器承裝業\")]\n",
    "df8 = df8.sort_values(by='核准設立日期')\n",
    "df8.index = list(range(0,len(df8[\"產業別\"])))\n",
    "x = pd.DataFrame({\"資本額(標準化)\":preprocessing.scale(df8[\"資本額總額\"]),\n",
    "                  \"成立順序\":list(range(1,len(df8[\"核准設立日期\"])+1))\n",
    "                 })\n",
    "df8 = df8.merge(x ,left_index=True, right_index=True)\n",
    "df8 = df8.round({\"資本額(標準化)\":3})"
   ]
  },
  {
   "cell_type": "code",
   "execution_count": 19,
   "metadata": {},
   "outputs": [],
   "source": [
    "df9 = df2[df2[\"產業別\"].str.contains(\"建築物清潔服務業\")]\n",
    "df9 = df9.sort_values(by='核准設立日期')\n",
    "df9.index = list(range(0,len(df9[\"產業別\"])))\n",
    "x = pd.DataFrame({\"資本額(標準化)\":preprocessing.scale(df9[\"資本額總額\"]),\n",
    "                  \"成立順序\":list(range(1,len(df9[\"核准設立日期\"])+1))\n",
    "                 })\n",
    "df9 = df9.merge(x ,left_index=True, right_index=True)\n",
    "df9 = df9.round({\"資本額(標準化)\":3})"
   ]
  },
  {
   "cell_type": "code",
   "execution_count": 20,
   "metadata": {},
   "outputs": [],
   "source": [
    "df10 = df2[df2[\"產業別\"].str.contains(\"食品什貨批發業\")]\n",
    "df10 = df10.sort_values(by='核准設立日期')\n",
    "df10.index = list(range(0,len(df10[\"產業別\"])))\n",
    "x = pd.DataFrame({\"資本額(標準化)\":preprocessing.scale(df10[\"資本額總額\"]),\n",
    "                  \"成立順序\":list(range(1,len(df10[\"核准設立日期\"])+1))\n",
    "                 })\n",
    "df10 = df10.merge(x ,left_index=True, right_index=True)\n",
    "df10 = df10.round({\"資本額(標準化)\":3})"
   ]
  },
  {
   "cell_type": "code",
   "execution_count": 21,
   "metadata": {},
   "outputs": [],
   "source": [
    "df11 = df2[df2[\"產業別\"].str.contains(\"燃料導管安裝工程業\")]\n",
    "df11 = df11.sort_values(by='核准設立日期')\n",
    "df11.index = list(range(0,len(df11[\"產業別\"])))\n",
    "x = pd.DataFrame({\"資本額(標準化)\":preprocessing.scale(df11[\"資本額總額\"]),\n",
    "                  \"成立順序\":list(range(1,len(df11[\"核准設立日期\"])+1))\n",
    "                 })\n",
    "df11 = df11.merge(x ,left_index=True, right_index=True)\n",
    "df11 = df11.round({\"資本額(標準化)\":3})"
   ]
  },
  {
   "cell_type": "code",
   "execution_count": null,
   "metadata": {},
   "outputs": [],
   "source": []
  },
  {
   "cell_type": "code",
   "execution_count": 38,
   "metadata": {},
   "outputs": [],
   "source": [
    "data = pd.concat([df3,df4,df5,df6,df7,df8,df9,df10,df11], ignore_index=True)"
   ]
  },
  {
   "cell_type": "code",
   "execution_count": 40,
   "metadata": {},
   "outputs": [],
   "source": [
    "data2 = data[data.duplicated()]"
   ]
  },
  {
   "cell_type": "code",
   "execution_count": 30,
   "metadata": {},
   "outputs": [],
   "source": [
    "data.to_csv(\"workingfile.csv\")\n",
    "#data2.to_csv(\"working2.csv\")"
   ]
  },
  {
   "cell_type": "code",
   "execution_count": 41,
   "metadata": {},
   "outputs": [
    {
     "data": {
      "text/html": [
       "<div>\n",
       "<style scoped>\n",
       "    .dataframe tbody tr th:only-of-type {\n",
       "        vertical-align: middle;\n",
       "    }\n",
       "\n",
       "    .dataframe tbody tr th {\n",
       "        vertical-align: top;\n",
       "    }\n",
       "\n",
       "    .dataframe thead th {\n",
       "        text-align: right;\n",
       "    }\n",
       "</style>\n",
       "<table border=\"1\" class=\"dataframe\">\n",
       "  <thead>\n",
       "    <tr style=\"text-align: right;\">\n",
       "      <th></th>\n",
       "      <th>統一編號</th>\n",
       "      <th>公司名稱</th>\n",
       "      <th>公司地址</th>\n",
       "      <th>資本額總額</th>\n",
       "      <th>核准設立日期</th>\n",
       "      <th>最後核准變更日期</th>\n",
       "      <th>公司狀態</th>\n",
       "      <th>代表人/創辦人/員工</th>\n",
       "      <th>產業別</th>\n",
       "      <th>資本額(標準化)</th>\n",
       "      <th>成立順序</th>\n",
       "    </tr>\n",
       "  </thead>\n",
       "  <tbody>\n",
       "  </tbody>\n",
       "</table>\n",
       "</div>"
      ],
      "text/plain": [
       "Empty DataFrame\n",
       "Columns: [統一編號, 公司名稱, 公司地址, 資本額總額, 核准設立日期, 最後核准變更日期, 公司狀態, 代表人/創辦人/員工, 產業別, 資本額(標準化), 成立順序]\n",
       "Index: []"
      ]
     },
     "execution_count": 41,
     "metadata": {},
     "output_type": "execute_result"
    }
   ],
   "source": [
    "data2"
   ]
  },
  {
   "cell_type": "code",
   "execution_count": null,
   "metadata": {},
   "outputs": [],
   "source": []
  }
 ],
 "metadata": {
  "kernelspec": {
   "display_name": "Python 3",
   "language": "python",
   "name": "python3"
  },
  "language_info": {
   "codemirror_mode": {
    "name": "ipython",
    "version": 3
   },
   "file_extension": ".py",
   "mimetype": "text/x-python",
   "name": "python",
   "nbconvert_exporter": "python",
   "pygments_lexer": "ipython3",
   "version": "3.7.4"
  }
 },
 "nbformat": 4,
 "nbformat_minor": 2
}
